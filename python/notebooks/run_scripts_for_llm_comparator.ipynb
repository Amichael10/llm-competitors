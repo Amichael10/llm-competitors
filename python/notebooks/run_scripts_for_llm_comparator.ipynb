{
  "cells": [
    {
      "cell_type": "code",
      "execution_count": null,
      "metadata": {
        "id": "kunEkAgFB9Yt"
      },
      "outputs": [],
      "source": [
        "# !pip install llm-comparator"
      ]
    },
    {
      "cell_type": "code",
      "execution_count": null,
      "metadata": {
        "id": "82SyO0LFCLPy"
      },
      "outputs": [],
      "source": [
        "from llm_comparator import model_helper\n",
        "from llm_comparator import llm_judge_runner"
      ]
    },
    {
      "cell_type": "code",
      "execution_count": null,
      "metadata": {
        "id": "3ygUJPVxDMB7"
      },
      "outputs": [],
      "source": [
        "#@title Setup for using Vertex AI.\n",
        "from google.colab import auth\n",
        "auth.authenticate_user()\n",
        "\n",
        "PROJECT_ID = 'pair-experimental'  #@param {type: \"string\"}\n",
        "REGION = 'us-central1'  #@param {type: \"string\"}\n",
        "\n",
        "! gcloud config set project {PROJECT_ID}\n",
        "\n",
        "generator = model_helper.VertexModelHelper(project_id=PROJECT_ID, region=REGION)"
      ]
    },
    {
      "cell_type": "code",
      "execution_count": null,
      "metadata": {
        "id": "JBGp4LiVCO00"
      },
      "outputs": [],
      "source": [
        "llm_judge_inputs = [\n",
        "    {'prompt': 'how are you?', 'response_a': 'good', 'response_b': 'bad'},\n",
        "    {'prompt': 'hello?', 'response_a': 'hello', 'response_b': 'hi'},\n",
        "    {'prompt': 'what is the capital of korea?', 'response_a': 'Seoul', 'response_b': 'Vancouver'}\n",
        "]"
      ]
    },
    {
      "cell_type": "code",
      "execution_count": null,
      "metadata": {
        "colab": {
          "base_uri": "https://localhost:8080/",
          "height": 122,
          "referenced_widgets": [
            "b1f767d85b0049e7b8298b2ded73b813",
            "365f9083827842e6be757fa5ada40923",
            "c88ff4c249c44cfaa9476a35e74eddca",
            "80ddae0490724333b94fcfa8ca67a76f",
            "29a97793b5ae46e68f293b109a6bba54",
            "7c0ba13ac9614ef29d937217c14ab0b5",
            "6fc8526e8ff7462a929d7f8a758f50f5",
            "3a34aab02f8d43ab89eb414a63dd9344",
            "dbb088402f12464d84691bb74d4e38c1",
            "e79ba2bdacc24faf93206f9179d59036",
            "ebd218112beb42ac891a4165baaf1d97"
          ]
        },
        "id": "Xy6GxkgJCD-M",
        "outputId": "fbd586b4-813e-48e3-9234-c9b005738cd7"
      },
      "outputs": [
        {
          "name": "stdout",
          "output_type": "stream",
          "text": [
            "Created 12 inputs for LLM judge.\n"
          ]
        },
        {
          "data": {
            "application/vnd.jupyter.widget-view+json": {
              "model_id": "b1f767d85b0049e7b8298b2ded73b813",
              "version_major": 2,
              "version_minor": 0
            },
            "text/plain": [
              "  0%|          | 0/12 [00:00\u003c?, ?it/s]"
            ]
          },
          "metadata": {},
          "output_type": "display_data"
        },
        {
          "name": "stdout",
          "output_type": "stream",
          "text": [
            "Generated 12 outputs from LLM judge.\n",
            "Parsed 3 example ratings.\n",
            "Generated ratings for 3 examples.\n"
          ]
        }
      ],
      "source": [
        "# Run LLM judge.\n",
        "judge = llm_judge_runner.LLMJudgeRunner(generator)\n",
        "outputs = judge.run(llm_judge_inputs, 4)\n",
        "\n",
        "# TODO: Create a wrapper class that includes both LLM judge and rationale summary (not implemented yet)."
      ]
    },
    {
      "cell_type": "code",
      "execution_count": null,
      "metadata": {
        "id": "X33Th6Kiw_Ja"
      },
      "outputs": [],
      "source": [
        "#@title Prepare JSON for LLM Comparator\n",
        "# TODO: Move to the pip package.\n",
        "import json\n",
        "\n",
        "llm_comparator_data = {\n",
        "    'metadata': {'custom_fields_schema': []},\n",
        "    'models': [{'name': 'A'}, { 'name': 'B'}],\n",
        "    'examples': [{\n",
        "        'input_text': input['prompt'],\n",
        "        'tags': [],\n",
        "        'output_text_a': input['response_a'],\n",
        "        'output_text_b': input['response_b'],\n",
        "        'score': output['score'],\n",
        "        'individual_rater_scores': output['individual_ratings']\n",
        "    } for input, output in zip(llm_judge_inputs, outputs)]\n",
        "}\n",
        "\n",
        "with open('json_for_llm_comparator.json', 'w') as f:\n",
        "  json.dump(llm_comparator_data, f)"
      ]
    },
    {
      "cell_type": "code",
      "execution_count": null,
      "metadata": {
        "id": "g1mE-MKAwsA6"
      },
      "outputs": [],
      "source": [
        "!git clone https://github.com/PAIR-code/llm-comparator"
      ]
    },
    {
      "cell_type": "code",
      "execution_count": null,
      "metadata": {
        "id": "CiKOappAwtkv"
      },
      "outputs": [],
      "source": [
        "#@title For displaying LLM Comparator.\n",
        "from IPython.display import Javascript\n",
        "\n",
        "# TODO: Move to the pip package.\n",
        "def show_llm_comparator(json_path, height=800, port=8888):\n",
        "  get_ipython().system_raw(f'python3 -m http.server {port} \u0026')\n",
        "  display(Javascript(\"\"\"\n",
        "  (async ()=\u003e{\n",
        "    fm = document.createElement('iframe')\n",
        "    fm.src = await google.colab.kernel.proxyPort(%s)\n",
        "    results_path = fm.src + '%s'\n",
        "    fm.src += 'llm-comparator/docs/'\n",
        "    fm.src += '?results_path=' + results_path\n",
        "    fm.width = '100%%'\n",
        "    fm.height = '%d'\n",
        "    fm.frameBorder = 0\n",
        "    document.body.append(fm)\n",
        "  })();\n",
        "  \"\"\" % (port, json_path, height) ))"
      ]
    },
    {
      "cell_type": "code",
      "execution_count": null,
      "metadata": {
        "colab": {
          "base_uri": "https://localhost:8080/",
          "height": 821
        },
        "id": "U-o0bDW4wvnR",
        "outputId": "d7c0d058-5a57-4cad-d2e7-1a3ee351f0d0"
      },
      "outputs": [
        {
          "data": {
            "application/javascript": [
              "\n",
              "  (async ()=\u003e{\n",
              "    fm = document.createElement('iframe')\n",
              "    fm.src = await google.colab.kernel.proxyPort(8888)\n",
              "    results_path = fm.src + 'json_for_llm_comparator.json'\n",
              "    fm.src += 'llm-comparator/docs/'\n",
              "    fm.src += '?results_path=' + results_path\n",
              "    fm.width = '100%'\n",
              "    fm.height = '800'\n",
              "    fm.frameBorder = 0\n",
              "    document.body.append(fm)\n",
              "  })();\n",
              "  "
            ],
            "text/plain": [
              "\u003cIPython.core.display.Javascript object\u003e"
            ]
          },
          "metadata": {},
          "output_type": "display_data"
        }
      ],
      "source": [
        "show_llm_comparator('json_for_llm_comparator.json')"
      ]
    }
  ],
  "metadata": {
    "colab": {
      "provenance": []
    },
    "kernelspec": {
      "display_name": "Python 3",
      "name": "python3"
    },
    "language_info": {
      "name": "python"
    },
    "widgets": {
      "application/vnd.jupyter.widget-state+json": {
        "29a97793b5ae46e68f293b109a6bba54": {
          "model_module": "@jupyter-widgets/base",
          "model_module_version": "1.2.0",
          "model_name": "LayoutModel",
          "state": {
            "_model_module": "@jupyter-widgets/base",
            "_model_module_version": "1.2.0",
            "_model_name": "LayoutModel",
            "_view_count": null,
            "_view_module": "@jupyter-widgets/base",
            "_view_module_version": "1.2.0",
            "_view_name": "LayoutView",
            "align_content": null,
            "align_items": null,
            "align_self": null,
            "border": null,
            "bottom": null,
            "display": null,
            "flex": null,
            "flex_flow": null,
            "grid_area": null,
            "grid_auto_columns": null,
            "grid_auto_flow": null,
            "grid_auto_rows": null,
            "grid_column": null,
            "grid_gap": null,
            "grid_row": null,
            "grid_template_areas": null,
            "grid_template_columns": null,
            "grid_template_rows": null,
            "height": null,
            "justify_content": null,
            "justify_items": null,
            "left": null,
            "margin": null,
            "max_height": null,
            "max_width": null,
            "min_height": null,
            "min_width": null,
            "object_fit": null,
            "object_position": null,
            "order": null,
            "overflow": null,
            "overflow_x": null,
            "overflow_y": null,
            "padding": null,
            "right": null,
            "top": null,
            "visibility": null,
            "width": null
          }
        },
        "365f9083827842e6be757fa5ada40923": {
          "model_module": "@jupyter-widgets/controls",
          "model_module_version": "1.5.0",
          "model_name": "HTMLModel",
          "state": {
            "_dom_classes": [],
            "_model_module": "@jupyter-widgets/controls",
            "_model_module_version": "1.5.0",
            "_model_name": "HTMLModel",
            "_view_count": null,
            "_view_module": "@jupyter-widgets/controls",
            "_view_module_version": "1.5.0",
            "_view_name": "HTMLView",
            "description": "",
            "description_tooltip": null,
            "layout": "IPY_MODEL_7c0ba13ac9614ef29d937217c14ab0b5",
            "placeholder": "​",
            "style": "IPY_MODEL_6fc8526e8ff7462a929d7f8a758f50f5",
            "value": "100%"
          }
        },
        "3a34aab02f8d43ab89eb414a63dd9344": {
          "model_module": "@jupyter-widgets/base",
          "model_module_version": "1.2.0",
          "model_name": "LayoutModel",
          "state": {
            "_model_module": "@jupyter-widgets/base",
            "_model_module_version": "1.2.0",
            "_model_name": "LayoutModel",
            "_view_count": null,
            "_view_module": "@jupyter-widgets/base",
            "_view_module_version": "1.2.0",
            "_view_name": "LayoutView",
            "align_content": null,
            "align_items": null,
            "align_self": null,
            "border": null,
            "bottom": null,
            "display": null,
            "flex": null,
            "flex_flow": null,
            "grid_area": null,
            "grid_auto_columns": null,
            "grid_auto_flow": null,
            "grid_auto_rows": null,
            "grid_column": null,
            "grid_gap": null,
            "grid_row": null,
            "grid_template_areas": null,
            "grid_template_columns": null,
            "grid_template_rows": null,
            "height": null,
            "justify_content": null,
            "justify_items": null,
            "left": null,
            "margin": null,
            "max_height": null,
            "max_width": null,
            "min_height": null,
            "min_width": null,
            "object_fit": null,
            "object_position": null,
            "order": null,
            "overflow": null,
            "overflow_x": null,
            "overflow_y": null,
            "padding": null,
            "right": null,
            "top": null,
            "visibility": null,
            "width": null
          }
        },
        "6fc8526e8ff7462a929d7f8a758f50f5": {
          "model_module": "@jupyter-widgets/controls",
          "model_module_version": "1.5.0",
          "model_name": "DescriptionStyleModel",
          "state": {
            "_model_module": "@jupyter-widgets/controls",
            "_model_module_version": "1.5.0",
            "_model_name": "DescriptionStyleModel",
            "_view_count": null,
            "_view_module": "@jupyter-widgets/base",
            "_view_module_version": "1.2.0",
            "_view_name": "StyleView",
            "description_width": ""
          }
        },
        "7c0ba13ac9614ef29d937217c14ab0b5": {
          "model_module": "@jupyter-widgets/base",
          "model_module_version": "1.2.0",
          "model_name": "LayoutModel",
          "state": {
            "_model_module": "@jupyter-widgets/base",
            "_model_module_version": "1.2.0",
            "_model_name": "LayoutModel",
            "_view_count": null,
            "_view_module": "@jupyter-widgets/base",
            "_view_module_version": "1.2.0",
            "_view_name": "LayoutView",
            "align_content": null,
            "align_items": null,
            "align_self": null,
            "border": null,
            "bottom": null,
            "display": null,
            "flex": null,
            "flex_flow": null,
            "grid_area": null,
            "grid_auto_columns": null,
            "grid_auto_flow": null,
            "grid_auto_rows": null,
            "grid_column": null,
            "grid_gap": null,
            "grid_row": null,
            "grid_template_areas": null,
            "grid_template_columns": null,
            "grid_template_rows": null,
            "height": null,
            "justify_content": null,
            "justify_items": null,
            "left": null,
            "margin": null,
            "max_height": null,
            "max_width": null,
            "min_height": null,
            "min_width": null,
            "object_fit": null,
            "object_position": null,
            "order": null,
            "overflow": null,
            "overflow_x": null,
            "overflow_y": null,
            "padding": null,
            "right": null,
            "top": null,
            "visibility": null,
            "width": null
          }
        },
        "80ddae0490724333b94fcfa8ca67a76f": {
          "model_module": "@jupyter-widgets/controls",
          "model_module_version": "1.5.0",
          "model_name": "HTMLModel",
          "state": {
            "_dom_classes": [],
            "_model_module": "@jupyter-widgets/controls",
            "_model_module_version": "1.5.0",
            "_model_name": "HTMLModel",
            "_view_count": null,
            "_view_module": "@jupyter-widgets/controls",
            "_view_module_version": "1.5.0",
            "_view_name": "HTMLView",
            "description": "",
            "description_tooltip": null,
            "layout": "IPY_MODEL_e79ba2bdacc24faf93206f9179d59036",
            "placeholder": "​",
            "style": "IPY_MODEL_ebd218112beb42ac891a4165baaf1d97",
            "value": " 12/12 [00:16\u0026lt;00:00,  1.55s/it]"
          }
        },
        "b1f767d85b0049e7b8298b2ded73b813": {
          "model_module": "@jupyter-widgets/controls",
          "model_module_version": "1.5.0",
          "model_name": "HBoxModel",
          "state": {
            "_dom_classes": [],
            "_model_module": "@jupyter-widgets/controls",
            "_model_module_version": "1.5.0",
            "_model_name": "HBoxModel",
            "_view_count": null,
            "_view_module": "@jupyter-widgets/controls",
            "_view_module_version": "1.5.0",
            "_view_name": "HBoxView",
            "box_style": "",
            "children": [
              "IPY_MODEL_365f9083827842e6be757fa5ada40923",
              "IPY_MODEL_c88ff4c249c44cfaa9476a35e74eddca",
              "IPY_MODEL_80ddae0490724333b94fcfa8ca67a76f"
            ],
            "layout": "IPY_MODEL_29a97793b5ae46e68f293b109a6bba54"
          }
        },
        "c88ff4c249c44cfaa9476a35e74eddca": {
          "model_module": "@jupyter-widgets/controls",
          "model_module_version": "1.5.0",
          "model_name": "FloatProgressModel",
          "state": {
            "_dom_classes": [],
            "_model_module": "@jupyter-widgets/controls",
            "_model_module_version": "1.5.0",
            "_model_name": "FloatProgressModel",
            "_view_count": null,
            "_view_module": "@jupyter-widgets/controls",
            "_view_module_version": "1.5.0",
            "_view_name": "ProgressView",
            "bar_style": "success",
            "description": "",
            "description_tooltip": null,
            "layout": "IPY_MODEL_3a34aab02f8d43ab89eb414a63dd9344",
            "max": 12,
            "min": 0,
            "orientation": "horizontal",
            "style": "IPY_MODEL_dbb088402f12464d84691bb74d4e38c1",
            "value": 12
          }
        },
        "dbb088402f12464d84691bb74d4e38c1": {
          "model_module": "@jupyter-widgets/controls",
          "model_module_version": "1.5.0",
          "model_name": "ProgressStyleModel",
          "state": {
            "_model_module": "@jupyter-widgets/controls",
            "_model_module_version": "1.5.0",
            "_model_name": "ProgressStyleModel",
            "_view_count": null,
            "_view_module": "@jupyter-widgets/base",
            "_view_module_version": "1.2.0",
            "_view_name": "StyleView",
            "bar_color": null,
            "description_width": ""
          }
        },
        "e79ba2bdacc24faf93206f9179d59036": {
          "model_module": "@jupyter-widgets/base",
          "model_module_version": "1.2.0",
          "model_name": "LayoutModel",
          "state": {
            "_model_module": "@jupyter-widgets/base",
            "_model_module_version": "1.2.0",
            "_model_name": "LayoutModel",
            "_view_count": null,
            "_view_module": "@jupyter-widgets/base",
            "_view_module_version": "1.2.0",
            "_view_name": "LayoutView",
            "align_content": null,
            "align_items": null,
            "align_self": null,
            "border": null,
            "bottom": null,
            "display": null,
            "flex": null,
            "flex_flow": null,
            "grid_area": null,
            "grid_auto_columns": null,
            "grid_auto_flow": null,
            "grid_auto_rows": null,
            "grid_column": null,
            "grid_gap": null,
            "grid_row": null,
            "grid_template_areas": null,
            "grid_template_columns": null,
            "grid_template_rows": null,
            "height": null,
            "justify_content": null,
            "justify_items": null,
            "left": null,
            "margin": null,
            "max_height": null,
            "max_width": null,
            "min_height": null,
            "min_width": null,
            "object_fit": null,
            "object_position": null,
            "order": null,
            "overflow": null,
            "overflow_x": null,
            "overflow_y": null,
            "padding": null,
            "right": null,
            "top": null,
            "visibility": null,
            "width": null
          }
        },
        "ebd218112beb42ac891a4165baaf1d97": {
          "model_module": "@jupyter-widgets/controls",
          "model_module_version": "1.5.0",
          "model_name": "DescriptionStyleModel",
          "state": {
            "_model_module": "@jupyter-widgets/controls",
            "_model_module_version": "1.5.0",
            "_model_name": "DescriptionStyleModel",
            "_view_count": null,
            "_view_module": "@jupyter-widgets/base",
            "_view_module_version": "1.2.0",
            "_view_name": "StyleView",
            "description_width": ""
          }
        }
      }
    }
  },
  "nbformat": 4,
  "nbformat_minor": 0
}
